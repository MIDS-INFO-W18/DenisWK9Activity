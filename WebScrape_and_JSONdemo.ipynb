{
 "cells": [
  {
   "cell_type": "code",
   "execution_count": 107,
   "metadata": {
    "collapsed": false,
    "deletable": true,
    "editable": true
   },
   "outputs": [],
   "source": [
    "from selenium import webdriver\n",
    "webdriver_path = 'phantomjs-2.1.1-macosx/bin/phantomjs'\n",
    "browser = webdriver.PhantomJS(executable_path = webdriver_path)\n",
    "browser2 = webdriver.PhantomJS(executable_path = webdriver_path)\n",
    "browser3 = webdriver.PhantomJS(executable_path = webdriver_path)"
   ]
  },
  {
   "cell_type": "markdown",
   "metadata": {},
   "source": [
    "## Get related companies' performance"
   ]
  },
  {
   "cell_type": "code",
   "execution_count": 108,
   "metadata": {
    "collapsed": false
   },
   "outputs": [],
   "source": [
    "def get_related_performance(tkr):\n",
    "    url = \"http://www.google.com/finance?q=\" + tkr\n",
    "    browser.get(url)\n",
    "    company_names = [i for i in browser.find_element_by_class_name('gf-table').find_elements_by_class_name(\"ctsymbol\")[1:]]\n",
    "\n",
    "    pctchanges = browser.find_element_by_class_name('gf-table').find_elements_by_class_name('rgt')[5:][2::5]\n",
    "    return zip(company_names,pctchanges)\n"
   ]
  },
  {
   "cell_type": "code",
   "execution_count": 109,
   "metadata": {
    "collapsed": false
   },
   "outputs": [
    {
     "name": "stdout",
     "output_type": "stream",
     "text": [
      "TM                  \t\t1.18%\n",
      "DDAIF               \t\t1.13%\n",
      "VLKAY               \t\t0.52%\n",
      "GM                  \t\t-3.39%\n",
      "AUDVF               \t\t-0.82%\n",
      "RNSDF               \t\t1.21%\n",
      "TSLA                \t\t-1.21%\n",
      "NSANY               \t\t0.30%\n",
      "HMC                 \t\t2.21%\n",
      "KIMTF               \t\t0.00%\n"
     ]
    }
   ],
   "source": [
    "tkr = 'f'\n",
    "\n",
    "for company,percentchange in get_related_performance(tkr):\n",
    "    print(\"{: <20}\\t\\t{}\".format(company.text,percentchange.text))\n"
   ]
  },
  {
   "cell_type": "code",
   "execution_count": 25,
   "metadata": {
    "collapsed": false
   },
   "outputs": [],
   "source": [
    "def get_car_tickers():\n",
    "    url = \"http://topforeignstocks.com/stock-lists/the-complete-list-of-auto-manufacturing-stocks-trading-on-the-nyse/\"\n",
    "    browser3.get(url)\n",
    "    for tkr in browser3.find_elements_by_class_name('column-3')[1:]:\n",
    "        yield tkr.text"
   ]
  },
  {
   "cell_type": "code",
   "execution_count": 26,
   "metadata": {
    "collapsed": false
   },
   "outputs": [
    {
     "name": "stdout",
     "output_type": "stream",
     "text": [
      "FSS\n",
      "RACE\n",
      "FCAU\n",
      "F\n",
      "GM\n",
      "HMC\n",
      "NAV\n",
      "OSK\n",
      "TTM\n",
      "TM\n",
      "WBC\n"
     ]
    }
   ],
   "source": [
    "cars = list(get_car_tickers())\n",
    "for car in cars:\n",
    "    print(car)"
   ]
  },
  {
   "cell_type": "code",
   "execution_count": 27,
   "metadata": {
    "collapsed": true
   },
   "outputs": [],
   "source": [
    "def ticker_to_name(company):\n",
    "    assert isinstance(company, str)\n",
    "    company = \"+\".join(company.split())\n",
    "    url = \"http://www.google.com/finance?q=\" + company\n",
    "    browser2.get(url)\n",
    "    try:\n",
    "        return browser2.find_element_by_class_name(\"appbar-snippet-primary\").text\n",
    "    except:\n",
    "        return \"error-notfound\""
   ]
  },
  {
   "cell_type": "code",
   "execution_count": 45,
   "metadata": {
    "collapsed": true
   },
   "outputs": [],
   "source": [
    "cars = ['FSS','Ford','GM','TM','BMW','VLKAY','Tesla']"
   ]
  },
  {
   "cell_type": "code",
   "execution_count": 47,
   "metadata": {
    "collapsed": false
   },
   "outputs": [
    {
     "name": "stdout",
     "output_type": "stream",
     "text": [
      "\n",
      "========== FSS  ==========\n",
      "GNTX                \t\t-0.23%\n",
      "SPAR                \t\t-1.67%\n",
      "CTAS                \t\t-0.56%\n",
      "ACAT                \t\t\n",
      "SCTBF               \t\t0.00%\n",
      "KKWFF               \t\t0.00%\n",
      "FPRUY               \t\t0.00%\n",
      "SHKLY               \t\t0.00%\n",
      "REVG                \t\t0.68%\n",
      "FUJHY               \t\t-1.10%\n",
      "\n",
      "========== Ford  ==========\n",
      "TM                  \t\t0.52%\n",
      "DDAIF               \t\t-0.36%\n",
      "VLKAY               \t\t-0.54%\n",
      "GM                  \t\t0.59%\n",
      "AUDVF               \t\t0.00%\n",
      "RNSDF               \t\t-5.36%\n",
      "TSLA                \t\t-3.46%\n",
      "NSANY               \t\t-0.99%\n",
      "HMC                 \t\t1.30%\n",
      "KIMTF               \t\t0.00%\n",
      "\n",
      "========== GM  ==========\n",
      "NSANY               \t\t-0.99%\n",
      "F                   \t\t0.45%\n",
      "TM                  \t\t0.52%\n",
      "TSLA                \t\t-3.46%\n",
      "DDAIF               \t\t-0.36%\n",
      "VLKAY               \t\t-0.54%\n",
      "AUDVF               \t\t0.00%\n",
      "HYMLF               \t\t0.00%\n",
      "ISUZY               \t\t4.94%\n",
      "BAMXF               \t\t1.53%\n",
      "\n",
      "========== TM  ==========\n",
      "F                   \t\t0.45%\n",
      "MZDAF               \t\t0.95%\n",
      "RNSDF               \t\t-5.36%\n",
      "NSANY               \t\t-0.99%\n",
      "HMC                 \t\t1.30%\n",
      "SZKMY               \t\t-0.57%\n",
      "VLKAY               \t\t-0.54%\n",
      "GM                  \t\t0.59%\n",
      "DDAIF               \t\t-0.36%\n",
      "TYIDY               \t\t0.00%\n",
      "\n",
      "========== BMW  ==========\n",
      "DAI                 \t\t-0.94%\n",
      "NSU                 \t\t-0.29%\n",
      "TOMA                \t\t0.68%\n",
      "8GM                 \t\t0.00%\n",
      "RNL                 \t\t-0.90%\n",
      "TATB                \t\t-1.82%\n",
      "TL0                 \t\t-4.58%\n",
      "CBA                 \t\t\n",
      "VOW3                \t\t-1.29%\n",
      "SIE                 \t\t-0.86%\n",
      "\n",
      "========== VLKAY  ==========\n",
      "DDAIF               \t\t-0.36%\n",
      "F                   \t\t0.45%\n",
      "AUDVF               \t\t0.00%\n",
      "TTM                 \t\t-0.46%\n",
      "POAHY               \t\t0.00%\n",
      "BAMXF               \t\t1.53%\n",
      "NAV                 \t\t0.82%\n",
      "TM                  \t\t0.52%\n",
      "RNSDF               \t\t-5.36%\n",
      "GM                  \t\t0.59%\n",
      "\n",
      "========== Tesla  ==========\n",
      "DDAIF               \t\t-0.36%\n",
      "GM                  \t\t0.59%\n",
      "F                   \t\t0.45%\n",
      "RNSDF               \t\t-5.36%\n",
      "HMC                 \t\t1.30%\n",
      "AUDVF               \t\t0.00%\n",
      "TM                  \t\t0.52%\n",
      "MMTOF               \t\t-0.97%\n",
      "NSANY               \t\t-0.99%\n",
      "BAMXF               \t\t1.53%\n"
     ]
    }
   ],
   "source": [
    "for car in cars:\n",
    "    print(\"\\n========== {}  ==========\".format(car))\n",
    "    for related,percentchange in get_related_performance(car):\n",
    "        print(\"{: <20}\\t\\t{}\".format(related.text,percentchange.text))\n"
   ]
  },
  {
   "cell_type": "code",
   "execution_count": 94,
   "metadata": {
    "collapsed": false,
    "deletable": true,
    "editable": true
   },
   "outputs": [
    {
     "name": "stdout",
     "output_type": "stream",
     "text": [
      "\n",
      "========== FSS  ==========\n",
      "GNTX                \t\t-0.23%\n",
      "SPAR                \t\t-1.67%\n",
      "CTAS                \t\t-0.56%\n",
      "ACAT                \t\t\n",
      "SCTBF               \t\t0.00%\n",
      "KKWFF               \t\t0.00%\n",
      "FPRUY               \t\t0.00%\n",
      "SHKLY               \t\t0.00%\n",
      "REVG                \t\t0.68%\n",
      "FUJHY               \t\t-1.10%\n",
      "\n",
      "========== Ford  ==========\n",
      "TM                  \t\t0.52%\n",
      "DDAIF               \t\t-0.36%\n",
      "VLKAY               \t\t-0.54%\n",
      "GM                  \t\t0.59%\n",
      "AUDVF               \t\t0.00%\n",
      "RNSDF               \t\t-5.36%\n",
      "TSLA                \t\t-3.46%\n",
      "NSANY               \t\t-0.99%\n",
      "HMC                 \t\t1.30%\n",
      "KIMTF               \t\t0.00%\n",
      "\n",
      "========== GM  ==========\n",
      "NSANY               \t\t-0.99%\n",
      "F                   \t\t0.45%\n",
      "TM                  \t\t0.52%\n",
      "TSLA                \t\t-3.46%\n",
      "DDAIF               \t\t-0.36%\n",
      "VLKAY               \t\t-0.54%\n",
      "AUDVF               \t\t0.00%\n",
      "HYMLF               \t\t0.00%\n",
      "ISUZY               \t\t4.94%\n",
      "BAMXF               \t\t1.53%\n",
      "\n",
      "========== TM  ==========\n",
      "F                   \t\t0.45%\n",
      "MZDAF               \t\t0.95%\n",
      "RNSDF               \t\t-5.36%\n",
      "NSANY               \t\t-0.99%\n",
      "HMC                 \t\t1.30%\n",
      "SZKMY               \t\t-0.57%\n",
      "VLKAY               \t\t-0.54%\n",
      "GM                  \t\t0.59%\n",
      "DDAIF               \t\t-0.36%\n",
      "TYIDY               \t\t0.00%\n",
      "\n",
      "========== BMW  ==========\n",
      "DAI                 \t\t-0.94%\n",
      "NSU                 \t\t-0.29%\n",
      "TOMA                \t\t0.68%\n",
      "8GM                 \t\t0.00%\n",
      "RNL                 \t\t-0.90%\n",
      "TATB                \t\t-1.82%\n",
      "TL0                 \t\t-4.58%\n",
      "CBA                 \t\t\n",
      "VOW3                \t\t-1.29%\n",
      "SIE                 \t\t-0.86%\n",
      "\n",
      "========== VLKAY  ==========\n",
      "DDAIF               \t\t-0.36%\n",
      "F                   \t\t0.45%\n",
      "AUDVF               \t\t0.00%\n",
      "TTM                 \t\t-0.46%\n",
      "POAHY               \t\t0.00%\n",
      "BAMXF               \t\t1.53%\n",
      "NAV                 \t\t0.82%\n",
      "TM                  \t\t0.52%\n",
      "RNSDF               \t\t-5.36%\n",
      "GM                  \t\t0.59%\n",
      "\n",
      "========== Tesla  ==========\n",
      "DDAIF               \t\t-0.36%\n",
      "GM                  \t\t0.59%\n",
      "F                   \t\t0.45%\n",
      "RNSDF               \t\t-5.36%\n",
      "HMC                 \t\t1.30%\n",
      "AUDVF               \t\t0.00%\n",
      "TM                  \t\t0.52%\n",
      "MMTOF               \t\t-0.97%\n",
      "NSANY               \t\t-0.99%\n",
      "BAMXF               \t\t1.53%\n"
     ]
    }
   ],
   "source": [
    "carmfgmarket = dict()\n",
    "\n",
    "for car in cars:\n",
    "    carmfgmarket[car] = dict()\n",
    "    print(\"\\n========== {}  ==========\".format(car))\n",
    "    for related,percentchange in get_related_performance(car):\n",
    "        print(\"{: <20}\\t\\t{}\".format(related.text,percentchange.text))\n",
    "        try:\n",
    "            carmfgmarket[car][related.text] = float(percentchange.text.strip('%'))\n",
    "        except:\n",
    "            carmfgmarket[car][related.text] = 0\n"
   ]
  },
  {
   "cell_type": "markdown",
   "metadata": {
    "deletable": true,
    "editable": true
   },
   "source": [
    "## Working with JSONs"
   ]
  },
  {
   "cell_type": "code",
   "execution_count": 97,
   "metadata": {
    "collapsed": false
   },
   "outputs": [
    {
     "data": {
      "text/plain": [
       "{'BMW': {'8GM': 0.0,\n",
       "  'CBA': 0,\n",
       "  'DAI': -0.94,\n",
       "  'NSU': -0.29,\n",
       "  'RNL': -0.9,\n",
       "  'SIE': -0.86,\n",
       "  'TATB': -1.82,\n",
       "  'TL0': -4.58,\n",
       "  'TOMA': 0.68,\n",
       "  'VOW3': -1.29},\n",
       " 'FSS': {'ACAT': 0,\n",
       "  'CTAS': -0.56,\n",
       "  'FPRUY': 0.0,\n",
       "  'FUJHY': -1.1,\n",
       "  'GNTX': -0.23,\n",
       "  'KKWFF': 0.0,\n",
       "  'REVG': 0.68,\n",
       "  'SCTBF': 0.0,\n",
       "  'SHKLY': 0.0,\n",
       "  'SPAR': -1.67},\n",
       " 'Ford': {'AUDVF': 0.0,\n",
       "  'DDAIF': -0.36,\n",
       "  'GM': 0.59,\n",
       "  'HMC': 1.3,\n",
       "  'KIMTF': 0.0,\n",
       "  'NSANY': -0.99,\n",
       "  'RNSDF': -5.36,\n",
       "  'TM': 0.52,\n",
       "  'TSLA': -3.46,\n",
       "  'VLKAY': -0.54},\n",
       " 'GM': {'AUDVF': 0.0,\n",
       "  'BAMXF': 1.53,\n",
       "  'DDAIF': -0.36,\n",
       "  'F': 0.45,\n",
       "  'HYMLF': 0.0,\n",
       "  'ISUZY': 4.94,\n",
       "  'NSANY': -0.99,\n",
       "  'TM': 0.52,\n",
       "  'TSLA': -3.46,\n",
       "  'VLKAY': -0.54},\n",
       " 'TM': {'DDAIF': -0.36,\n",
       "  'F': 0.45,\n",
       "  'GM': 0.59,\n",
       "  'HMC': 1.3,\n",
       "  'MZDAF': 0.95,\n",
       "  'NSANY': -0.99,\n",
       "  'RNSDF': -5.36,\n",
       "  'SZKMY': -0.57,\n",
       "  'TYIDY': 0.0,\n",
       "  'VLKAY': -0.54},\n",
       " 'Tesla': {'AUDVF': 0.0,\n",
       "  'BAMXF': 1.53,\n",
       "  'DDAIF': -0.36,\n",
       "  'F': 0.45,\n",
       "  'GM': 0.59,\n",
       "  'HMC': 1.3,\n",
       "  'MMTOF': -0.97,\n",
       "  'NSANY': -0.99,\n",
       "  'RNSDF': -5.36,\n",
       "  'TM': 0.52},\n",
       " 'VLKAY': {'AUDVF': 0.0,\n",
       "  'BAMXF': 1.53,\n",
       "  'DDAIF': -0.36,\n",
       "  'F': 0.45,\n",
       "  'GM': 0.59,\n",
       "  'NAV': 0.82,\n",
       "  'POAHY': 0.0,\n",
       "  'RNSDF': -5.36,\n",
       "  'TM': 0.52,\n",
       "  'TTM': -0.46}}"
      ]
     },
     "execution_count": 97,
     "metadata": {},
     "output_type": "execute_result"
    }
   ],
   "source": [
    "carmfgmarket"
   ]
  },
  {
   "cell_type": "code",
   "execution_count": 99,
   "metadata": {
    "collapsed": false,
    "deletable": true,
    "editable": true
   },
   "outputs": [
    {
     "name": "stdout",
     "output_type": "stream",
     "text": [
      "<class 'str'>\n",
      "{\"FSS\": {\"CTAS\": -0.56, \"KKWFF\": 0.0, \"REVG\": 0.68, \"FPRUY\": 0.0, \"SHKLY\": 0.0, \"GNTX\": -0.23, \"SCTBF\": 0.0, \"SPAR\": -1.67, \"ACAT\": 0, \"FUJHY\": -1.1}, \"BMW\": {\"TOMA\": 0.68, \"CBA\": 0, \"TATB\": -1.82, \"NSU\": -0.29, \"DAI\": -0.94, \"TL0\": -4.58, \"8GM\": 0.0, \"RNL\": -0.9, \"SIE\": -0.86, \"VOW3\": -1.29}, \"Ford\": {\"TSLA\": -3.46, \"NSANY\": -0.99, \"RNSDF\": -5.36, \"VLKAY\": -0.54, \"DDAIF\": -0.36, \"KIMTF\": 0.0, \"TM\": 0.52, \"AUDVF\": 0.0, \"GM\": 0.59, \"HMC\": 1.3}, \"VLKAY\": {\"TTM\": -0.46, \"POAHY\": 0.0, \"NAV\": 0.82, \"DDAIF\": -0.36, \"BAMXF\": 1.53, \"TM\": 0.52, \"AUDVF\": 0.0, \"RNSDF\": -5.36, \"GM\": 0.59, \"F\": 0.45}, \"TM\": {\"TYIDY\": 0.0, \"NSANY\": -0.99, \"RNSDF\": -5.36, \"HMC\": 1.3, \"DDAIF\": -0.36, \"VLKAY\": -0.54, \"MZDAF\": 0.95, \"GM\": 0.59, \"F\": 0.45, \"SZKMY\": -0.57}, \"GM\": {\"HYMLF\": 0.0, \"BAMXF\": 1.53, \"NSANY\": -0.99, \"TSLA\": -3.46, \"VLKAY\": -0.54, \"DDAIF\": -0.36, \"TM\": 0.52, \"AUDVF\": 0.0, \"F\": 0.45, \"ISUZY\": 4.94}, \"Tesla\": {\"MMTOF\": -0.97, \"NSANY\": -0.99, \"RNSDF\": -5.36, \"HMC\": 1.3, \"DDAIF\": -0.36, \"BAMXF\": 1.53, \"TM\": 0.52, \"AUDVF\": 0.0, \"GM\": 0.59, \"F\": 0.45}}\n"
     ]
    }
   ],
   "source": [
    "import json\n",
    "carsjson = json.dumps(carmfgmarket)\n",
    "print(type(carsjson))\n",
    "print(carsjson)\n"
   ]
  },
  {
   "cell_type": "code",
   "execution_count": 100,
   "metadata": {
    "collapsed": false,
    "deletable": true,
    "editable": true
   },
   "outputs": [
    {
     "name": "stdout",
     "output_type": "stream",
     "text": [
      "<class 'dict'>\n",
      "{'FSS': {'CTAS': -0.56, 'KKWFF': 0.0, 'REVG': 0.68, 'FPRUY': 0.0, 'SHKLY': 0.0, 'GNTX': -0.23, 'SCTBF': 0.0, 'SPAR': -1.67, 'ACAT': 0, 'FUJHY': -1.1}, 'BMW': {'TOMA': 0.68, 'CBA': 0, 'TATB': -1.82, 'NSU': -0.29, 'DAI': -0.94, 'RNL': -0.9, '8GM': 0.0, 'TL0': -4.58, 'SIE': -0.86, 'VOW3': -1.29}, 'Ford': {'GM': 0.59, 'NSANY': -0.99, 'RNSDF': -5.36, 'VLKAY': -0.54, 'DDAIF': -0.36, 'KIMTF': 0.0, 'TM': 0.52, 'TSLA': -3.46, 'AUDVF': 0.0, 'HMC': 1.3}, 'VLKAY': {'BAMXF': 1.53, 'POAHY': 0.0, 'NAV': 0.82, 'DDAIF': -0.36, 'AUDVF': 0.0, 'TM': 0.52, 'TTM': -0.46, 'RNSDF': -5.36, 'GM': 0.59, 'F': 0.45}, 'TM': {'TYIDY': 0.0, 'NSANY': -0.99, 'RNSDF': -5.36, 'HMC': 1.3, 'DDAIF': -0.36, 'MZDAF': 0.95, 'GM': 0.59, 'SZKMY': -0.57, 'F': 0.45, 'VLKAY': -0.54}, 'GM': {'HYMLF': 0.0, 'BAMXF': 1.53, 'NSANY': -0.99, 'TSLA': -3.46, 'VLKAY': -0.54, 'DDAIF': -0.36, 'TM': 0.52, 'AUDVF': 0.0, 'F': 0.45, 'ISUZY': 4.94}, 'Tesla': {'BAMXF': 1.53, 'NSANY': -0.99, 'RNSDF': -5.36, 'HMC': 1.3, 'DDAIF': -0.36, 'MMTOF': -0.97, 'AUDVF': 0.0, 'GM': 0.59, 'TM': 0.52, 'F': 0.45}}\n"
     ]
    }
   ],
   "source": [
    "carsjson = json.loads(carsjson)\n",
    "print(type(carsjson))\n",
    "print(carsjson)"
   ]
  },
  {
   "cell_type": "code",
   "execution_count": 101,
   "metadata": {
    "collapsed": false,
    "deletable": true,
    "editable": true
   },
   "outputs": [
    {
     "data": {
      "text/plain": [
       "dict_keys(['FSS', 'BMW', 'Ford', 'VLKAY', 'TM', 'GM', 'Tesla'])"
      ]
     },
     "execution_count": 101,
     "metadata": {},
     "output_type": "execute_result"
    }
   ],
   "source": [
    "carsjson.keys()"
   ]
  },
  {
   "cell_type": "code",
   "execution_count": 104,
   "metadata": {
    "collapsed": false,
    "deletable": true,
    "editable": true
   },
   "outputs": [
    {
     "name": "stdout",
     "output_type": "stream",
     "text": [
      "<class 'dict'>\n"
     ]
    },
    {
     "data": {
      "text/plain": [
       "{'8GM': 0.0,\n",
       " 'CBA': 0,\n",
       " 'DAI': -0.94,\n",
       " 'NSU': -0.29,\n",
       " 'RNL': -0.9,\n",
       " 'SIE': -0.86,\n",
       " 'TATB': -1.82,\n",
       " 'TL0': -4.58,\n",
       " 'TOMA': 0.68,\n",
       " 'VOW3': -1.29}"
      ]
     },
     "execution_count": 104,
     "metadata": {},
     "output_type": "execute_result"
    }
   ],
   "source": [
    "print(type(carsjson['BMW']))\n",
    "carsjson['BMW']"
   ]
  },
  {
   "cell_type": "code",
   "execution_count": 106,
   "metadata": {
    "collapsed": false,
    "deletable": true,
    "editable": true
   },
   "outputs": [
    {
     "data": {
      "text/plain": [
       "dict_items([('TOMA', 0.68), ('CBA', 0), ('TATB', -1.82), ('NSU', -0.29), ('DAI', -0.94), ('RNL', -0.9), ('8GM', 0.0), ('TL0', -4.58), ('SIE', -0.86), ('VOW3', -1.29)])"
      ]
     },
     "execution_count": 106,
     "metadata": {},
     "output_type": "execute_result"
    }
   ],
   "source": [
    "carsjson['BMW'].items()"
   ]
  },
  {
   "cell_type": "markdown",
   "metadata": {
    "deletable": true,
    "editable": true
   },
   "source": [
    "### "
   ]
  },
  {
   "cell_type": "code",
   "execution_count": 8,
   "metadata": {
    "collapsed": true
   },
   "outputs": [],
   "source": []
  }
 ],
 "metadata": {
  "kernelspec": {
   "display_name": "Python 3",
   "language": "python",
   "name": "python3"
  },
  "language_info": {
   "codemirror_mode": {
    "name": "ipython",
    "version": 3
   },
   "file_extension": ".py",
   "mimetype": "text/x-python",
   "name": "python",
   "nbconvert_exporter": "python",
   "pygments_lexer": "ipython3",
   "version": "3.5.2"
  }
 },
 "nbformat": 4,
 "nbformat_minor": 2
}
